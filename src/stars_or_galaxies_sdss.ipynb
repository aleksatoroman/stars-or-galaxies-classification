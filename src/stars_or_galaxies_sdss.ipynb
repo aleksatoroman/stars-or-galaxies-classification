{
 "cells": [
  {
   "cell_type": "code",
   "id": "initial_id",
   "metadata": {
    "collapsed": true
   },
   "source": [
    "import pandas as pd\n",
    "import numpy as np\n",
    "import matplotlib.pyplot as plt\n",
    "import seaborn as sns\n",
    "from scipy import stats\n",
    "from sklearn.neighbors import KNeighborsClassifier\n",
    "from sklearn import metrics\n",
    "from sklearn.metrics import accuracy_score\n",
    "from sklearn.linear_model import LogisticRegression\n",
    "from sklearn.model_selection import train_test_split\n",
    "from sklearn.metrics import precision_score, recall_score, accuracy_score, roc_auc_score\n",
    "from sklearn.metrics import confusion_matrix\n",
    "from sklearn.preprocessing import StandardScaler\n",
    "from sklearn.model_selection import cross_val_score\n",
    "from sklearn.model_selection import RepeatedStratifiedKFold\n",
    "from sklearn.neighbors import LocalOutlierFactor\n",
    "from sklearn.model_selection import GridSearchCV\n",
    "from sklearn.tree import DecisionTreeClassifier\n",
    "from sklearn.metrics import accuracy_score\n",
    "from sklearn.metrics import precision_score, recall_score, precision_recall_curve,f1_score, fbeta_score\n",
    "from sklearn.ensemble import RandomForestClassifier, VotingClassifier, BaggingClassifier, GradientBoostingClassifier, AdaBoostClassifier, ExtraTreesClassifier\n",
    "from sklearn.decomposition import PCA"
   ],
   "outputs": [],
   "execution_count": null
  },
  {
   "metadata": {},
   "cell_type": "code",
   "source": [
    "# Load the data\n",
    "data = pd.read_csv('../resources/data_sdss.csv')\n",
    "data.head()"
   ],
   "id": "21ab3dc15d916cec",
   "outputs": [],
   "execution_count": null
  },
  {
   "metadata": {},
   "cell_type": "code",
   "source": "data.describe()",
   "id": "1348b8179f701b57",
   "outputs": [],
   "execution_count": null
  },
  {
   "metadata": {},
   "cell_type": "code",
   "source": "data.info()",
   "id": "3581dfcfe243548d",
   "outputs": [],
   "execution_count": null
  },
  {
   "metadata": {},
   "cell_type": "code",
   "source": [
    "# keep only ra, dec, u, g, r, u, z, class and redshift columns\n",
    "data_model = data[['ra', 'dec', 'u', 'g', 'r', 'i', 'z', 'class', 'redshift']]\n",
    "data_model.head()"
   ],
   "id": "d67d5568967cc49a",
   "outputs": [],
   "execution_count": null
  },
  {
   "metadata": {},
   "cell_type": "code",
   "source": "data_model.info()",
   "id": "7eefc0d33fcc53e",
   "outputs": [],
   "execution_count": null
  },
  {
   "metadata": {},
   "cell_type": "code",
   "source": "data_model.describe()",
   "id": "3df70c1e0b4a4020",
   "outputs": [],
   "execution_count": null
  },
  {
   "metadata": {},
   "cell_type": "markdown",
   "source": "# Data Cleaning",
   "id": "c936d609937bea99"
  },
  {
   "metadata": {},
   "cell_type": "code",
   "source": [
    "data_model['class'] = data_model['class'].map({'GALAXY':0, 'STAR':1})\n",
    "\n",
    "clf = LocalOutlierFactor()\n",
    "clf.fit_predict(data_model)\n",
    "x_score = clf.negative_outlier_factor_\n",
    "outlier_score = pd.DataFrame()\n",
    "outlier_score[\"score\"] = x_score\n",
    "\n",
    "#filter for dropping                                           \n",
    "filter2 = outlier_score[\"score\"] < -1.5\n",
    "outlier_index = outlier_score[filter2].index.tolist()\n",
    "data_model = data_model.drop(outlier_index, inplace=False)\n",
    "data_model['class'] = data_model['class'].map({0:'GALAXY', 1:'STAR'})"
   ],
   "id": "6c2a6acb6eea62e4",
   "outputs": [],
   "execution_count": null
  },
  {
   "metadata": {},
   "cell_type": "markdown",
   "source": "## Feature Engineering",
   "id": "f604de2150b49271"
  },
  {
   "metadata": {},
   "cell_type": "code",
   "source": [
    "data_model['color_u_g'] = data_model['u'] - data_model['g']\n",
    "data_model['color_g_r'] = data_model['g'] - data_model['r']\n",
    "data_model['color_r_i'] = data_model['r'] - data_model['i']\n",
    "data_model['color_i_z'] = data_model['i'] - data_model['z']"
   ],
   "id": "187cc4f475f2211",
   "outputs": [],
   "execution_count": null
  },
  {
   "metadata": {},
   "cell_type": "code",
   "source": "data_model.describe()",
   "id": "27b8526b0e0dabd6",
   "outputs": [],
   "execution_count": null
  },
  {
   "metadata": {},
   "cell_type": "markdown",
   "source": "# Data Visualization",
   "id": "44d764cc0154b7b4"
  },
  {
   "metadata": {},
   "cell_type": "code",
   "source": [
    "sns.set_context(\"paper\", rc={\"font.size\":10,\n",
    "                             \"axes.titlesize\":15,\n",
    "                             \"axes.labelsize\":12,\n",
    "                             \"xtick.labelsize\":10,\n",
    "                             \"ytick.labelsize\":10,\n",
    "                             \"legend.fontsize\":15})\n",
    "\n",
    "palette = {'GALAXY':'#4daf4a',\n",
    "           'STAR':'#ff7f00'}"
   ],
   "id": "3204c2a2d9d51643",
   "outputs": [],
   "execution_count": null
  },
  {
   "metadata": {},
   "cell_type": "code",
   "source": [
    "labels = [data_model['class'].value_counts().iloc[0],\n",
    "          data_model['class'].value_counts().iloc[1]]\n",
    "\n",
    "plt.figure(figsize=(10, 6))\n",
    "data_model['class'].value_counts().plot(kind='barh', title='Comparison of Sky Objects',\n",
    "                                        color=['#4daf4a', '#ff7f00', '#377eb8']).invert_yaxis()\n",
    "plt.xlabel('Number of Observations')\n",
    "plt.xlim(0, 400000)\n",
    "\n",
    "for index, value in enumerate(labels):\n",
    "    plt.text(value, index, str(value))\n",
    "\n",
    "plt.show()"
   ],
   "id": "2cafe0353a4d0b4b",
   "outputs": [],
   "execution_count": null
  },
  {
   "metadata": {},
   "cell_type": "code",
   "source": [
    "f, axs = plt.subplots(1,2,\n",
    "                      figsize=(15,8),\n",
    "                      sharey=True,\n",
    "                     gridspec_kw=dict(width_ratios=[3,0.8]))\n",
    "sns.scatterplot(x = 'ra',y = 'dec', hue = 'class', data = data_model, ax = axs[0], palette = palette, alpha = 0.5)\n",
    "sns.kdeplot(y = 'dec', hue = 'class', data = data_model, ax = axs[1], palette = palette, legend = False)\n",
    "f.tight_layout()\n",
    "\n",
    "plt.suptitle('Equatorial Coordinates', fontsize = 15);"
   ],
   "id": "280ef74446c88b91",
   "outputs": [],
   "execution_count": null
  },
  {
   "metadata": {},
   "cell_type": "code",
   "source": [
    "def get_hists(feature_name):\n",
    "    if feature_name == 'redshift':\n",
    "        fig, axes = plt.subplots(nrows=1, ncols=2,figsize=(15, 5))\n",
    "    else:\n",
    "        fig, axes = plt.subplots(nrows=1, ncols=2,figsize=(15, 5), sharex = True)\n",
    "    \n",
    "    ax = sns.histplot(data_model[data_model['class']=='GALAXY'][feature_name], bins = 30, ax = axes[0], \n",
    "                      color = '#4daf4a', kde = False)\n",
    "    ax.set_title('Galaxy')\n",
    "    ax = sns.histplot(data_model[data_model['class']=='STAR'][feature_name], bins = 30, ax = axes[1], \n",
    "                      color = '#ff7f00', kde = False)\n",
    "    ax.set_title('Star')\n",
    "    fig.suptitle(feature_name.upper(), fontsize = 15)\n",
    "    fig.tight_layout(pad = 0.5)"
   ],
   "id": "6708a147f22a9b8c",
   "outputs": [],
   "execution_count": null
  },
  {
   "metadata": {},
   "cell_type": "code",
   "source": [
    "columns = list(data_model.drop(['class'], axis = 1).columns)\n",
    "for name in columns:\n",
    "    get_hists(name)"
   ],
   "id": "43a72f9561b6a86",
   "outputs": [],
   "execution_count": null
  },
  {
   "metadata": {},
   "cell_type": "markdown",
   "source": "# Correlation matrix",
   "id": "b1298d7cad715955"
  },
  {
   "metadata": {},
   "cell_type": "code",
   "source": [
    "fig, axes = plt.subplots(nrows=1, ncols=2,figsize=(15, 6))\n",
    "fig.set_dpi(250)\n",
    "ax = sns.heatmap(data_model[data_model['class']=='GALAXY'][\n",
    "    ['u', 'g', 'r', 'i', 'z']].corr(), ax = axes[0], cmap='Spectral', annot=True)\n",
    "ax.set_title('Galaxy')\n",
    "ax = sns.heatmap(data_model[data_model['class']=='STAR'][\n",
    "    ['u', 'g', 'r', 'i', 'z']].corr(), ax = axes[1], cmap='Spectral', annot=True)\n",
    "ax.set_title('Star')\n",
    "fig.tight_layout(pad = 0.5);"
   ],
   "id": "6b6b619f191aa641",
   "outputs": [],
   "execution_count": null
  },
  {
   "metadata": {},
   "cell_type": "markdown",
   "source": "### Pair Plot",
   "id": "3b0486517d1193ff"
  },
  {
   "metadata": {},
   "cell_type": "code",
   "source": "sns.pairplot(data_model.sample(10000), hue = 'class', height = 4, palette = palette);",
   "id": "55c83592fee14d32",
   "outputs": [],
   "execution_count": null
  },
  {
   "metadata": {},
   "cell_type": "markdown",
   "source": "# Logistic Regression Model",
   "id": "7ef241aa17d6f9be"
  },
  {
   "metadata": {},
   "cell_type": "code",
   "source": "data_model.head()",
   "id": "c35f07251fc1b92e",
   "outputs": [],
   "execution_count": null
  },
  {
   "metadata": {},
   "cell_type": "code",
   "source": [
    "X = data_model.drop(['class'], axis = 1)\n",
    "y = data_model['class']"
   ],
   "id": "42cdf83d96704f2f",
   "outputs": [],
   "execution_count": null
  },
  {
   "metadata": {},
   "cell_type": "code",
   "source": "X_train, X_test, y_train, y_test = train_test_split(X, y, test_size=0.25, random_state=2023, stratify=y)",
   "id": "d5a5d1e11b3c9d39",
   "outputs": [],
   "execution_count": null
  },
  {
   "metadata": {},
   "cell_type": "code",
   "source": [
    "std_scale = StandardScaler()\n",
    "\n",
    "X_train_scaled = std_scale.fit_transform(X_train)\n",
    "X_test_scaled = std_scale.transform(X_test)"
   ],
   "id": "261237b04b4d78ef",
   "outputs": [],
   "execution_count": null
  },
  {
   "metadata": {},
   "cell_type": "code",
   "source": [
    "def plot_confusion(model_name, model, x_values, actual_values):\n",
    "    labels = ['GALAXY', 'STAR']\n",
    "    # Predict the values using the model\n",
    "    predicted_values = model.predict(x_values)\n",
    "    \n",
    "    # Compute the confusion matrix\n",
    "    confusion = confusion_matrix(actual_values, predicted_values, labels=labels)\n",
    "    \n",
    "    # Plot the confusion matrix\n",
    "    plt.figure(dpi=150)\n",
    "    sns.heatmap(confusion, cmap=plt.cm.Blues, annot=True, fmt='g',\n",
    "                square=True, xticklabels=labels, yticklabels=labels)\n",
    "\n",
    "    plt.xlabel('Predicted class')\n",
    "    plt.ylabel('Actual class')\n",
    "    plt.title(f'{model_name} Confusion Matrix', fontsize=12)\n",
    "    plt.show()\n"
   ],
   "id": "647b8d718af14dbf",
   "outputs": [],
   "execution_count": null
  },
  {
   "metadata": {},
   "cell_type": "code",
   "source": [
    "linreg = LogisticRegression()\n",
    "\n",
    "logreg_baseline = LogisticRegression(solver='lbfgs')\n",
    "\n",
    "# Setup repeated stratified k-fold cross-validation\n",
    "cv = RepeatedStratifiedKFold(n_splits=10, n_repeats=3, random_state=1)\n",
    "\n",
    "# Evaluate the model using cross-validation\n",
    "n_scores = cross_val_score(logreg_baseline, X_train_scaled, y_train, scoring='accuracy', cv=cv, n_jobs=-1)\n",
    "print('Mean Accuracy: %.3f (%.3f)' % (np.mean(n_scores), np.std(n_scores)))\n",
    "\n",
    "logreg_baseline.fit(X_train_scaled, y_train)\n",
    "\n",
    "# Evaluate the model on the test set\n",
    "test_accuracy = logreg_baseline.score(X_test_scaled, y_test)\n",
    "print('Test Accuracy: %.3f' % test_accuracy)"
   ],
   "id": "6ca65c1275131159",
   "outputs": [],
   "execution_count": null
  },
  {
   "metadata": {},
   "cell_type": "code",
   "source": "plot_confusion('Logistic Multinomial - Test Set',logreg_baseline, X_test_scaled, y_test)",
   "id": "3ac7a55f87006466",
   "outputs": [],
   "execution_count": null
  },
  {
   "metadata": {},
   "cell_type": "code",
   "source": [
    "y_pred = logreg_baseline.predict(X_test_scaled)\n",
    "print('Logistic Regression accuracy:', metrics.accuracy_score(y_test, y_pred))\n",
    "print(metrics.classification_report(y_test,y_pred, digits = 5))"
   ],
   "id": "3acdf05f1d0dd484",
   "outputs": [],
   "execution_count": null
  },
  {
   "metadata": {},
   "cell_type": "markdown",
   "source": "# Decision Tree Model",
   "id": "cce6b49f6048ee20"
  },
  {
   "metadata": {},
   "cell_type": "code",
   "source": [
    "from sklearn.tree import DecisionTreeClassifier\n",
    "\n",
    "dtree = DecisionTreeClassifier()\n",
    "dtree.fit(X_train,y_train)\n",
    "\n",
    "y_pred = dtree.predict(X_test)\n",
    "\n",
    "print('Simple Decision Tree')\n",
    "print('Simple Decision Tree accuracy:', metrics.accuracy_score(y_test, y_pred))\n",
    "print(metrics.classification_report(y_test,y_pred, digits = 5))"
   ],
   "id": "85bc25bb672e4a",
   "outputs": [],
   "execution_count": null
  },
  {
   "metadata": {},
   "cell_type": "code",
   "source": "dtree.get_params()",
   "id": "7ae6153af5cd0152",
   "outputs": [],
   "execution_count": null
  },
  {
   "metadata": {},
   "cell_type": "code",
   "source": [
    "param_grid = {\n",
    "    \"max_depth\" : [5,10,15],\n",
    "    \"min_samples_split\": [2,4,6,8],\n",
    "    \"min_samples_leaf\": [3,4,5,6],\n",
    "    \"max_features\": ['auto', None],\n",
    "}\n",
    "\n",
    "grid = GridSearchCV(dtree, param_grid, cv=10, scoring='f1_weighted', verbose = 2)\n",
    "grid.fit(X_train, y_train)\n",
    "\n",
    "print(\"Best params: \", grid.best_params_)\n",
    "print(\"Best estimator: \", grid.best_estimator_)\n",
    "print(\"Best score: \", grid.best_score_)"
   ],
   "id": "21b61d9205aef36a",
   "outputs": [],
   "execution_count": null
  },
  {
   "metadata": {},
   "cell_type": "code",
   "source": [
    "best_dtree = DecisionTreeClassifier(max_depth=15, \n",
    "                                    min_samples_leaf=5, \n",
    "                                    min_samples_split = 6, \n",
    "                                    max_features = None)\n",
    "\n",
    "best_dtree.fit(X_train, y_train)"
   ],
   "id": "59f63c4e25d06e1b",
   "outputs": [],
   "execution_count": null
  },
  {
   "metadata": {},
   "cell_type": "code",
   "source": [
    "print('Decision Tree - Test Set')\n",
    "y_pred = best_dtree.predict(X_test)\n",
    "print('Decision Tree accuracy best params:', metrics.accuracy_score(y_test, y_pred))\n",
    "print(metrics.classification_report(y_test,y_pred, digits = 5))"
   ],
   "id": "ba35e2b8094ce0f8",
   "outputs": [],
   "execution_count": null
  },
  {
   "metadata": {},
   "cell_type": "code",
   "source": "plot_confusion('Best Decision Tree - Test Set', best_dtree,  X_test, y_test)",
   "id": "bd83904b65d7b83f",
   "outputs": [],
   "execution_count": null
  },
  {
   "metadata": {},
   "cell_type": "markdown",
   "source": "# KNN",
   "id": "8988be874a6b5da9"
  },
  {
   "metadata": {},
   "cell_type": "code",
   "source": [
    "knn = KNeighborsClassifier(n_neighbors=5)\n",
    "\n",
    "# fit the knn parameters to training data set\n",
    "knn.fit(X_train_scaled, y_train)\n",
    "\n",
    "y_pred = knn.predict(X_test_scaled)\n",
    "print('KNN accuracy - test set:', metrics.accuracy_score(y_test, y_pred))"
   ],
   "id": "77b8fd9f6cd8700c",
   "outputs": [],
   "execution_count": null
  },
  {
   "metadata": {},
   "cell_type": "code",
   "source": [
    "param_grid = {\n",
    "    \"n_neighbors\": np.arange(1,12),\n",
    "    \"weights\": ['uniform', 'distance'],\n",
    "    \"metric\": [\"euclidean\",\"manhattan\"],\n",
    "    \"n_jobs\": [4]}\n",
    "    \n",
    "grid = GridSearchCV(knn, param_grid, cv=10, scoring='f1_weighted', verbose = 2)\n",
    "grid.fit(X_train_scaled, y_train)\n",
    "\n",
    "print(\"Best params: \", grid.best_params_)\n",
    "print(\"Best estimator: \", grid.best_estimator_)\n",
    "print(\"Best score: \", grid.best_score_)"
   ],
   "id": "e24f1ca15748ebac",
   "outputs": [],
   "execution_count": null
  },
  {
   "metadata": {},
   "cell_type": "code",
   "source": [
    "best_knn = KNeighborsClassifier(n_neighbors=6, weights='uniform', metric='manhattan', n_jobs=4)\n",
    "best_knn.fit(X_train_scaled, y_train)"
   ],
   "id": "fd27088dab3bb633",
   "outputs": [],
   "execution_count": null
  },
  {
   "metadata": {},
   "cell_type": "code",
   "source": [
    "print('KNN - Test Set')\n",
    "y_pred = best_knn.predict(X_test_scaled)\n",
    "print('KNN accuracy with best params:', metrics.accuracy_score(y_test, y_pred))\n",
    "print(metrics.classification_report(y_test,y_pred, digits = 5))"
   ],
   "id": "86ecaefde03caea2",
   "outputs": [],
   "execution_count": null
  },
  {
   "metadata": {},
   "cell_type": "code",
   "source": "plot_confusion(\"Best KNN - Test set\", best_knn, X_test_scaled, y_test)",
   "id": "8cb1f94daa34b33f",
   "outputs": [],
   "execution_count": null
  },
  {
   "metadata": {},
   "cell_type": "markdown",
   "source": "### Grid search - k neighbors",
   "id": "8a3c5a4b5cc57f44"
  },
  {
   "metadata": {},
   "cell_type": "code",
   "source": [
    "k_range = list(range(1, 30))\n",
    "param_grid = dict(n_neighbors=k_range)    \n",
    "grid = GridSearchCV(knn, param_grid, cv=10, scoring='accuracy', verbose = 2)\n",
    "grid.fit(X_train_scaled, y_train)"
   ],
   "id": "a2ad2635817cf639",
   "outputs": [],
   "execution_count": null
  },
  {
   "metadata": {},
   "cell_type": "code",
   "source": "results = pd.DataFrame(grid.cv_results_)",
   "id": "17235ec34be1902f",
   "outputs": [],
   "execution_count": null
  },
  {
   "metadata": {},
   "cell_type": "code",
   "source": [
    "mean_test_scores = results['mean_test_score']\n",
    "neighbors = results['param_n_neighbors']"
   ],
   "id": "57d6b652125ef047",
   "outputs": [],
   "execution_count": null
  },
  {
   "metadata": {},
   "cell_type": "code",
   "source": [
    "plt.figure(figsize=(10, 6))\n",
    "plt.plot(neighbors, mean_test_scores, marker='o')\n",
    "plt.title('Accuracy vs. Number of Neighbors (k)')\n",
    "plt.xlabel('Number of Neighbors (k)')\n",
    "plt.ylabel('Accuracy')\n",
    "plt.grid(True)\n",
    "plt.show()"
   ],
   "id": "dfeca069e42cb612",
   "outputs": [],
   "execution_count": null
  },
  {
   "metadata": {},
   "cell_type": "markdown",
   "source": "# Naive Bayes",
   "id": "4694f069b20abf90"
  },
  {
   "metadata": {},
   "cell_type": "code",
   "source": [
    "from sklearn.naive_bayes import GaussianNB\n",
    "\n",
    "gauss_nb = GaussianNB()\n",
    "gauss_nb.fit(X_train,y_train)\n",
    "\n",
    "y_pred = gauss_nb.predict(X_test)\n",
    "\n",
    "print('Gaussian Naive Bayes')\n",
    "print('Gaussian Naive Bayes accuracy:', metrics.accuracy_score(y_test, y_pred))\n",
    "print(metrics.classification_report(y_test,y_pred, digits = 3))"
   ],
   "id": "6721dd6e36a1c5bc",
   "outputs": [],
   "execution_count": null
  },
  {
   "metadata": {},
   "cell_type": "code",
   "source": [
    "gauss_nb = GaussianNB()\n",
    "param_grid = {\n",
    "             \"var_smoothing\": np.logspace(-15,1,base=10,num=50)\n",
    "             }\n",
    "\n",
    "grid = GridSearchCV(gauss_nb, param_grid, cv = 10, scoring = 'f1_weighted', verbose = 2)\n",
    "grid.fit(X_train, y_train)\n",
    "\n",
    "print(\"Best params: \", grid.best_params_)\n",
    "print(\"Best estimator: \", grid.best_estimator_)\n",
    "print(\"Best score: \", grid.best_score_)"
   ],
   "id": "c96b3be8b98bdf3f",
   "outputs": [],
   "execution_count": null
  },
  {
   "metadata": {},
   "cell_type": "code",
   "source": [
    "best_gauss = GaussianNB(var_smoothing=8.685113737513521e-13)\n",
    "\n",
    "best_gauss.fit(X_train, y_train)\n",
    "y_pred = best_gauss.predict(X_test)\n",
    "\n",
    "print('Gaussian NB - Test Set')\n",
    "print('Gaussian NB accuracy best params:', metrics.accuracy_score(y_test, y_pred))\n",
    "print(metrics.classification_report(y_test,y_pred, digits = 5))"
   ],
   "id": "84187288deded968",
   "outputs": [],
   "execution_count": null
  },
  {
   "cell_type": "code",
   "source": [
    "plot_confusion(\"Gaussian Naive Bayes\", best_gauss, X_test, y_test)"
   ],
   "metadata": {
    "collapsed": false
   },
   "id": "4438091e41c278a",
   "outputs": [],
   "execution_count": null
  },
  {
   "cell_type": "markdown",
   "source": [
    "### Random forest"
   ],
   "metadata": {
    "collapsed": false
   },
   "id": "4d85c8802d2b0551"
  },
  {
   "cell_type": "code",
   "source": [
    "from sklearn.ensemble import RandomForestClassifier"
   ],
   "metadata": {
    "collapsed": false
   },
   "id": "335dab0b4c7e4a4c",
   "outputs": [],
   "execution_count": null
  },
  {
   "cell_type": "code",
   "source": [
    "rf = RandomForestClassifier(n_estimators = 100, random_state=42)\n",
    "\n",
    "rf.fit(X_train,y_train)\n",
    "\n",
    "y_pred = rf.predict(X_test)\n",
    "\n",
    "print('Random Forest')\n",
    "print('Random Forest accuracy:', metrics.accuracy_score(y_test, y_pred))\n"
   ],
   "metadata": {
    "collapsed": false
   },
   "id": "5a267fe39c79ac4",
   "outputs": [],
   "execution_count": null
  },
  {
   "cell_type": "code",
   "source": [
    "rf.get_params()"
   ],
   "metadata": {
    "collapsed": false
   },
   "id": "fb8e26ed02d9cadc",
   "outputs": [],
   "execution_count": null
  },
  {
   "cell_type": "code",
   "source": [
    "from sklearn.model_selection import RandomizedSearchCV\n",
    "hyperparameters = {'max_features':[None, 'auto', 'sqrt', 'log2'],\n",
    "                   'max_depth':[None, 1, 5, 10, 15, 20],\n",
    "                   'min_samples_leaf': [1, 2, 4],\n",
    "                   'min_samples_split': [2, 5, 10],\n",
    "                   'n_estimators': [int(x) for x in np.linspace(start = 10, stop = 100, num = 10)],\n",
    "                   'criterion': ['gini', 'entropy']}\n",
    "rf_random = RandomizedSearchCV(RandomForestClassifier(), param_distributions=hyperparameters, scoring='accuracy', n_iter = 100, cv = 10, verbose=2, random_state=123, n_jobs = -1)\n",
    "rf_random.fit(X_train, y_train)"
   ],
   "metadata": {
    "collapsed": false
   },
   "id": "a516554e9cacac1f",
   "outputs": [],
   "execution_count": null
  },
  {
   "cell_type": "code",
   "source": [
    "rf_random.best_params_"
   ],
   "metadata": {
    "collapsed": false
   },
   "id": "fba0d73fdfd8671b",
   "outputs": [],
   "execution_count": null
  },
  {
   "cell_type": "code",
   "source": [
    "best_rf = rf_random.best_estimator_\n",
    "y_pred = best_rf.predict(X_test)"
   ],
   "metadata": {
    "collapsed": false
   },
   "id": "f3f30b842b2faeb7",
   "outputs": [],
   "execution_count": null
  },
  {
   "cell_type": "code",
   "source": [
    "print('Random Forest - Test Set')\n",
    "print('Random Forest accuracy with best params:', metrics.accuracy_score(y_test, y_pred))\n",
    "print(metrics.classification_report(y_test,y_pred, digits = 5))"
   ],
   "metadata": {
    "collapsed": false
   },
   "id": "12016328b864caff",
   "outputs": [],
   "execution_count": null
  },
  {
   "cell_type": "markdown",
   "source": [],
   "metadata": {
    "collapsed": false
   },
   "id": "687181ceae754e96"
  },
  {
   "cell_type": "code",
   "source": [
    "plot_confusion(\"Random Forest\", best_rf, X_test, y_test)"
   ],
   "metadata": {
    "collapsed": false
   },
   "id": "9b1fb0b5ef0e2448",
   "outputs": [],
   "execution_count": null
  },
  {
   "cell_type": "code",
   "source": [],
   "metadata": {
    "collapsed": false
   },
   "id": "af6a77a301025abd",
   "outputs": [],
   "execution_count": null
  },
  {
   "cell_type": "markdown",
   "source": [
    "### Feature importance"
   ],
   "metadata": {
    "collapsed": false
   },
   "id": "ef0ed1902c6cbad2"
  },
  {
   "cell_type": "code",
   "source": [
    "importances_rf = pd.DataFrame({'feature': X_train.columns,\n",
    "                             'importance': best_rf.feature_importances_})\n",
    "importances_rf = importances_rf.sort_values('importance',ascending=False).set_index('feature')\n",
    "importances_rf.head(17)"
   ],
   "metadata": {
    "collapsed": false
   },
   "id": "14efdfb621a693cf",
   "outputs": [],
   "execution_count": null
  }
 ],
 "metadata": {
  "kernelspec": {
   "display_name": "Python 3",
   "language": "python",
   "name": "python3"
  },
  "language_info": {
   "codemirror_mode": {
    "name": "ipython",
    "version": 2
   },
   "file_extension": ".py",
   "mimetype": "text/x-python",
   "name": "python",
   "nbconvert_exporter": "python",
   "pygments_lexer": "ipython2",
   "version": "2.7.6"
  }
 },
 "nbformat": 4,
 "nbformat_minor": 5
}
