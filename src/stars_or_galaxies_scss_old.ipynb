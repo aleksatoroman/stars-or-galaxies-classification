{
 "nbformat": 4,
 "nbformat_minor": 0,
 "metadata": {
  "colab": {
   "provenance": [],
   "authorship_tag": "ABX9TyMmB+VvpyPCzpBto2h+sgMX"
  },
  "kernelspec": {
   "name": "python3",
   "display_name": "Python 3 (ipykernel)",
   "language": "python"
  },
  "language_info": {
   "name": "python"
  }
 },
 "cells": [
  {
   "cell_type": "code",
   "metadata": {
    "id": "g61oH8W2w0pG",
    "executionInfo": {
     "status": "ok",
     "timestamp": 1716126055714,
     "user_tz": -120,
     "elapsed": 1699,
     "user": {
      "displayName": "Aleksa Toroman",
      "userId": "15937089949702664237"
     }
    }
   },
   "source": [
    "import pandas as pd\n",
    "import numpy as np\n",
    "import matplotlib.pyplot as plt\n",
    "import seaborn as sns\n",
    "from sklearn.model_selection import train_test_split\n",
    "from sklearn.ensemble import RandomForestClassifier\n",
    "from sklearn.svm import SVC\n",
    "from sklearn.metrics import classification_report, confusion_matrix\n",
    "from sklearn.preprocessing import StandardScaler\n",
    "from scipy import stats"
   ],
   "outputs": [],
   "execution_count": null
  },
  {
   "cell_type": "code",
   "source": [
    "file_path = '../resources/data_scss.tab'\n",
    "column_names = [\n",
    "    'ID', \"RA\", \"DEC\", \"EPOCH\", \"MU_ACOSD\", \"MU_D\", \"SIGMU_A\", \"SIGMU_D\",\n",
    "    \"B_J\", \"R_1\", \"R_2\", \"I\", \"AREA\", \"A_I\", \"B_I\", \"P_A\", \"CLASS\",\n",
    "    \"N(0,1)\", \"BLEND\", \"QUALITY\", \"FIELD\", \"XMIN\", \"XMAX\", \"YMIN\",\n",
    "    \"YMAX\", \"IPEAK\", \"MAG\", \"ISKY\", \"XCEN_I\", \"YCEN_I\", \"A_U\", \"B_U\",\n",
    "    \"THETA_U\", \"THETA_I\", \"AP(1)\", \"AP(2)\", \"AP(3)\", \"AP(4)\", \"AP(5)\",\n",
    "    \"AP(6)\", \"AP(7)\", \"AP(8)\", \"PRFMAG\"\n",
    "]\n",
    "\n",
    "data = pd.read_csv(file_path, sep='\\t', skiprows=1, names=column_names, low_memory=False)\n",
    "\n",
    "for col in column_names:\n",
    "    data[col] = pd.to_numeric(data[col], errors='coerce')\n",
    "\n",
    "data.head()"
   ],
   "metadata": {
    "colab": {
     "base_uri": "https://localhost:8080/",
     "height": 255
    },
    "id": "90uOIM5L-8fi",
    "executionInfo": {
     "status": "ok",
     "timestamp": 1716126070593,
     "user_tz": -120,
     "elapsed": 14881,
     "user": {
      "displayName": "Aleksa Toroman",
      "userId": "15937089949702664237"
     }
    },
    "outputId": "3a7576aa-6856-4851-c146-3732a68ab057"
   },
   "outputs": [],
   "execution_count": null
  },
  {
   "metadata": {},
   "cell_type": "code",
   "source": "data.describe()",
   "outputs": [],
   "execution_count": null
  },
  {
   "metadata": {},
   "cell_type": "code",
   "source": "data.info()",
   "outputs": [],
   "execution_count": null
  },
  {
   "metadata": {},
   "cell_type": "code",
   "source": "data.count()",
   "outputs": [],
   "execution_count": null
  },
  {
   "metadata": {},
   "cell_type": "code",
   "source": [
    "irrelevant_columns = [\"ID\", \"EPOCH\", \"MU_ACOSD\", \"MU_D\", \"SIGMU_A\", \"SIGMU_D\",\n",
    "                      \"XCEN_I\", \"YCEN_I\", \"P_A\", \"XMIN\", \"XMAX\", \"YMIN\", \"YMAX\", \"AP(1)\",\n",
    "                      \"AP(2)\", \"AP(3)\", \"AP(4)\", \"AP(5)\", \"AP(6)\", \"AP(7)\", \"AP(8)\"]\n",
    "\n",
    "data.drop(columns=irrelevant_columns, inplace=True)\n",
    "filtered_data = data[data['CLASS'].isin([1, 2])].copy()"
   ],
   "outputs": [],
   "execution_count": null
  },
  {
   "metadata": {},
   "cell_type": "code",
   "source": "filtered_data.head()",
   "outputs": [],
   "execution_count": null
  },
  {
   "metadata": {},
   "cell_type": "code",
   "source": "filtered_data.describe()",
   "outputs": [],
   "execution_count": null
  },
  {
   "metadata": {},
   "cell_type": "code",
   "source": [
    "filtered_data.replace([np.inf, -np.inf], np.nan, inplace=True)\n",
    "filtered_data = filtered_data.dropna(subset=['B_I', 'A_I', 'AREA', 'A_U', 'B_U'])\n",
    "\n",
    "# drop all rows that have value of column B_U of 0\n",
    "filtered_data = filtered_data[filtered_data['B_U'] != 0]"
   ],
   "outputs": [],
   "execution_count": null
  },
  {
   "metadata": {},
   "cell_type": "code",
   "source": "filtered_data.count()",
   "outputs": [],
   "execution_count": null
  },
  {
   "cell_type": "code",
   "source": [
    "filtered_data.loc[:, 'Ellipticity'] = 1 - (filtered_data['B_I'] / filtered_data['A_I'])\n",
    "filtered_data.loc[:, 'Filling_Factor'] = filtered_data['AREA'] / (np.pi * filtered_data['A_U'] * filtered_data['B_U'])"
   ],
   "metadata": {
    "colab": {
     "base_uri": "https://localhost:8080/"
    },
    "id": "puvIiuvTDGD7",
    "executionInfo": {
     "status": "ok",
     "timestamp": 1716126071440,
     "user_tz": -120,
     "elapsed": 850,
     "user": {
      "displayName": "Aleksa Toroman",
      "userId": "15937089949702664237"
     }
    },
    "outputId": "e908fae1-8bb9-4528-c620-c256c9f5812f"
   },
   "outputs": [],
   "execution_count": null
  },
  {
   "cell_type": "code",
   "source": "filtered_data.describe()",
   "metadata": {
    "id": "Lgpq2sUYFOxW",
    "executionInfo": {
     "status": "aborted",
     "timestamp": 1716126339582,
     "user_tz": -120,
     "elapsed": 3,
     "user": {
      "displayName": "Aleksa Toroman",
      "userId": "15937089949702664237"
     }
    }
   },
   "outputs": [],
   "execution_count": null
  },
  {
   "metadata": {},
   "cell_type": "code",
   "source": [
    "numerical_columns = filtered_data.select_dtypes(include=[np.number]).columns.tolist()\n",
    "numerical_columns.remove('CLASS')"
   ],
   "outputs": [],
   "execution_count": null
  },
  {
   "metadata": {},
   "cell_type": "code",
   "source": [
    "def remove_outliers(df, columns):\n",
    "    for column in columns:\n",
    "        Q1 = df[column].quantile(0.25)\n",
    "        Q3 = df[column].quantile(0.75)\n",
    "        IQR = Q3 - Q1\n",
    "        lower_bound = Q1 - 1.5 * IQR\n",
    "        upper_bound = Q3 + 1.5 * IQR\n",
    "        df = df[(df[column] >= lower_bound) & (df[column] <= upper_bound)]\n",
    "    return df"
   ],
   "outputs": [],
   "execution_count": null
  },
  {
   "metadata": {},
   "cell_type": "code",
   "source": [
    "filtered_data = remove_outliers(filtered_data, numerical_columns)\n",
    "filtered_data.describe()"
   ],
   "outputs": [],
   "execution_count": null
  },
  {
   "metadata": {},
   "cell_type": "code",
   "source": "filtered_data.head()",
   "outputs": [],
   "execution_count": null
  },
  {
   "metadata": {},
   "cell_type": "code",
   "source": [
    "filtered_data = filtered_data[filtered_data['R_1'] != 99.999]\n",
    "filtered_data = filtered_data[filtered_data['R_2'] != 99.999]\n",
    "filtered_data = filtered_data[filtered_data['I'] != 99.999]\n",
    "filtered_data.count()"
   ],
   "outputs": [],
   "execution_count": null
  },
  {
   "metadata": {},
   "cell_type": "code",
   "source": [
    "# convert the class label to strings where 2 is star and 1 is galaxy\n",
    "filtered_data['CLASS'] = filtered_data['CLASS'].map({2: 'STAR', 1: 'GALAXY'})"
   ],
   "outputs": [],
   "execution_count": null
  },
  {
   "metadata": {},
   "cell_type": "code",
   "source": "filtered_data.describe()",
   "outputs": [],
   "execution_count": null
  },
  {
   "metadata": {},
   "cell_type": "markdown",
   "source": "## Data Exploration"
  },
  {
   "metadata": {},
   "cell_type": "code",
   "source": [
    "sns.set_context(\"paper\", rc={\"font.size\":10,\n",
    "                             \"axes.titlesize\":15,\n",
    "                             \"axes.labelsize\":12,\n",
    "                             \"xtick.labelsize\":10,\n",
    "                             \"ytick.labelsize\":10,\n",
    "                             \"legend.fontsize\":15})\n",
    "\n",
    "palette = {'GALAXY':'#4daf4a',\n",
    "           'STAR':'#ff7f00'}"
   ],
   "outputs": [],
   "execution_count": null
  },
  {
   "metadata": {},
   "cell_type": "code",
   "source": [
    "labels = [filtered_data['CLASS'].value_counts().iloc[0],\n",
    "          filtered_data['CLASS'].value_counts().iloc[1]]\n",
    "\n",
    "plt.figure(figsize=(10,6))\n",
    "filtered_data['CLASS'].value_counts().plot(kind='barh', title='Comparison of Sky Objects',\n",
    "                                           color=['#4daf4a','#ff7f00']).invert_yaxis()\n",
    "plt.xlabel('Number of Observations')\n",
    "plt.xlim(0,60000)\n",
    "for index, value in enumerate(labels):\n",
    "    plt.text(value, index, str(value))\n",
    "\n",
    "plt.show()"
   ],
   "outputs": [],
   "execution_count": null
  },
  {
   "metadata": {},
   "cell_type": "code",
   "source": [
    "f, axs = plt.subplots(1,2,\n",
    "                      figsize=(15,8),\n",
    "                      sharey=True,\n",
    "                     gridspec_kw=dict(width_ratios=[3,0.8]))\n",
    "sns.scatterplot(x = 'RA',y = 'DEC', hue = 'CLASS', data = filtered_data, ax = axs[0], palette = palette, alpha = 0.5)\n",
    "sns.kdeplot(y = 'DEC', hue = 'CLASS', data = filtered_data, ax = axs[1], palette = palette, legend = False)\n",
    "f.tight_layout\n",
    "\n",
    "plt.suptitle('Equatorial Coordinates', fontsize = 15);"
   ],
   "outputs": [],
   "execution_count": null
  },
  {
   "metadata": {},
   "cell_type": "code",
   "source": "filtered_data.hist(bins = 80, figsize = (20,15));",
   "outputs": [],
   "execution_count": null
  },
  {
   "metadata": {},
   "cell_type": "code",
   "source": [
    "def get_hists(feature_name):\n",
    "    fig, axes = plt.subplots(nrows=1, ncols=2,figsize=(15, 5), sharex = True)\n",
    "    \n",
    "    ax = sns.histplot(filtered_data[filtered_data['CLASS']=='GALAXY'][feature_name], bins = 30, ax = axes[0], \n",
    "                      color = '#4daf4a', kde = False)\n",
    "    ax.set_title('Galaxy')\n",
    "    ax = sns.histplot(filtered_data[filtered_data['CLASS']=='STAR'][feature_name], bins = 30, ax = axes[1], \n",
    "                      color = '#ff7f00', kde = False)\n",
    "    ax.set_title('Star')\n",
    "\n",
    "    fig.suptitle(feature_name.upper(), fontsize = 15)\n",
    "    fig.tight_layout(pad = 0.5);"
   ],
   "outputs": [],
   "execution_count": null
  },
  {
   "metadata": {},
   "cell_type": "code",
   "source": [
    "columns = list(filtered_data.drop(['CLASS'], axis = 1).columns)\n",
    "for name in columns:\n",
    "    get_hists(name)"
   ],
   "outputs": [],
   "execution_count": null
  },
  {
   "metadata": {},
   "cell_type": "markdown",
   "source": "## Baseline Model - Logistic Regression"
  },
  {
   "metadata": {},
   "cell_type": "code",
   "source": "filtered_data.head()",
   "outputs": [],
   "execution_count": null
  },
  {
   "metadata": {},
   "cell_type": "code",
   "source": "filtered_data.drop(columns=['RA', 'DEC'], inplace=True)",
   "outputs": [],
   "execution_count": null
  },
  {
   "metadata": {},
   "cell_type": "code",
   "source": "filtered_data.head()",
   "outputs": [],
   "execution_count": null
  },
  {
   "metadata": {},
   "cell_type": "markdown",
   "source": "## Baseline Model - Logistic Regression"
  },
  {
   "metadata": {},
   "cell_type": "code",
   "source": [
    "from sklearn.neighbors import KNeighborsClassifier\n",
    "from sklearn import metrics\n",
    "from sklearn.metrics import accuracy_score\n",
    "\n",
    "from sklearn.linear_model import LogisticRegression\n",
    "from sklearn.model_selection import train_test_split\n",
    "from sklearn.metrics import precision_score, recall_score, accuracy_score, roc_auc_score\n",
    "from sklearn.metrics import confusion_matrix\n",
    "from sklearn.preprocessing import StandardScaler\n",
    "\n",
    "from sklearn.model_selection import cross_val_score\n",
    "from sklearn.model_selection import RepeatedStratifiedKFold\n",
    "\n",
    "from sklearn.model_selection import GridSearchCV\n",
    "from sklearn.tree import DecisionTreeClassifier\n",
    "\n",
    "from sklearn.metrics import accuracy_score\n",
    "from sklearn.metrics import precision_score, recall_score, precision_recall_curve,f1_score, fbeta_score\n",
    "from sklearn.ensemble import RandomForestClassifier, VotingClassifier, BaggingClassifier, GradientBoostingClassifier, AdaBoostClassifier, ExtraTreesClassifier\n",
    "\n",
    "from sklearn.decomposition import PCA"
   ],
   "outputs": [],
   "execution_count": null
  },
  {
   "metadata": {},
   "cell_type": "code",
   "source": [
    "X = filtered_data.drop('CLASS', axis=1)\n",
    "y = filtered_data['CLASS']"
   ],
   "outputs": [],
   "execution_count": null
  },
  {
   "metadata": {},
   "cell_type": "code",
   "source": [
    "X_train, X_test, y_train, y_test = train_test_split(X, y, test_size=0.2, random_state=2018)\n",
    "X_train, X_val, y_train, y_val = train_test_split(X_train, y_train, test_size=0.25, random_state=2019)"
   ],
   "outputs": [],
   "execution_count": null
  },
  {
   "metadata": {},
   "cell_type": "code",
   "source": [
    "std_scale = StandardScaler()\n",
    "X_train_scaled = std_scale.fit_transform(X_train)\n",
    "X_val_scaled = std_scale.transform(X_val)\n",
    "X_test_scaled = std_scale.transform(X_test)"
   ],
   "outputs": [],
   "execution_count": null
  },
  {
   "metadata": {},
   "cell_type": "code",
   "source": [
    "logreg_baseline = LogisticRegression(solver='lbfgs')\n",
    "\n",
    "cv = RepeatedStratifiedKFold(n_splits=10, n_repeats=3, random_state=1)\n",
    "n_scores = cross_val_score(logreg_baseline, X_train_scaled, y_train, scoring='accuracy', cv=cv, n_jobs=-1)\n",
    "\n",
    "print('Mean Accuracy: %.3f (%.3f)' % (np.mean(n_scores), np.std(n_scores)))\n",
    "\n",
    "logreg_baseline.fit(X_train_scaled, y_train)\n",
    "\n",
    "# Evaluate the model on the validation set\n",
    "y_val_pred = logreg_baseline.predict(X_val_scaled)\n",
    "val_accuracy = accuracy_score(y_val, y_val_pred)\n",
    "print(f'Validation Accuracy: {val_accuracy:.3f}')\n",
    "\n",
    "# Evaluate the model on the test set\n",
    "y_test_pred = logreg_baseline.predict(X_test_scaled)\n",
    "test_accuracy = accuracy_score(y_test, y_test_pred)\n",
    "print(f'Test Accuracy: {test_accuracy:.3f}')\n",
    "\n",
    "# Print classification report on the test set\n",
    "print(\"Classification Report on Test Data:\")\n",
    "print(classification_report(y_test, y_test_pred))"
   ],
   "outputs": [],
   "execution_count": null
  },
  {
   "metadata": {},
   "cell_type": "code",
   "source": [
    "def plot_confusion_matrix(y_test, y_pred):\n",
    "    conf_matrix = confusion_matrix(y_test, y_pred)\n",
    "    plt.figure(figsize=(8, 6))\n",
    "    sns.heatmap(conf_matrix, annot=True, fmt='d', cmap='Blues', xticklabels=['Galaxy', 'Star'], yticklabels=['Galaxy', 'Star'])\n",
    "    plt.xlabel('Predicted')\n",
    "    plt.ylabel('Actual')\n",
    "    plt.title('Confusion Matrix')\n",
    "    plt.show()\n"
   ],
   "outputs": [],
   "execution_count": null
  },
  {
   "metadata": {},
   "cell_type": "code",
   "source": [
    "# call plot_confusion_matrix\n",
    "plot_confusion_matrix(y_test, y_test_pred)"
   ],
   "outputs": [],
   "execution_count": null
  },
  {
   "metadata": {},
   "cell_type": "code",
   "source": [
    "print('Logistic Regression with Standard Scaling - Validation Set')\n",
    "print('Logistic Regression accuracy:', metrics.accuracy_score(y_val, y_val_pred))\n",
    "print(metrics.classification_report(y_val,y_val_pred, digits = 3))"
   ],
   "outputs": [],
   "execution_count": null
  },
  {
   "metadata": {},
   "cell_type": "markdown",
   "source": "## K-Nearest Neighbor\n"
  },
  {
   "metadata": {},
   "cell_type": "code",
   "source": "",
   "outputs": [],
   "execution_count": null
  }
 ]
}
